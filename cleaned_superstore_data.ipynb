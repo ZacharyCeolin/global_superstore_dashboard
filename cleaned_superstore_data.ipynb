{
  "nbformat": 4,
  "nbformat_minor": 0,
  "metadata": {
    "colab": {
      "provenance": []
    },
    "kernelspec": {
      "name": "python3",
      "display_name": "Python 3"
    },
    "language_info": {
      "name": "python"
    }
  },
  "cells": [
    {
      "cell_type": "markdown",
      "source": [
        "# **Superstore Dataset Cleaning with BigQuery**\n",
        "\n",
        "This notebook performs SQL-based cleaning of the Global Superstore dataset hosted in BigQuery.\n",
        "\n",
        "## **Objective**: Prepare the Global Superstore dataset for dashboard use\n",
        "\n",
        "This will be accomplished by:\n",
        "- Cleaning and standardizing text columns\n",
        "- Filtering out invalid or negative values\n",
        "- Checking data for NULL values\n",
        "- Ensuring data types are correctly labelled\n",
        "- Identifying any outliers\n",
        "- Saving and Exporting as a CSV File\n"
      ],
      "metadata": {
        "id": "N8hoe76v-fxI"
      }
    },
    {
      "cell_type": "code",
      "execution_count": 2,
      "metadata": {
        "id": "erwzxqi_-Oek"
      },
      "outputs": [],
      "source": [
        "!pip install --quiet google-cloud-bigquery pandas\n",
        "\n",
        "from google.colab import auth\n",
        "from google.cloud import bigquery\n",
        "auth.authenticate_user()\n",
        "client = bigquery.Client(project=\"superstore-072625\")\n"
      ]
    },
    {
      "cell_type": "markdown",
      "source": [
        "### **Standardizing Column Names**\n",
        "\n",
        "To improve consistency and simplify our analysis in the future, we standardize all column names by trimming any leading/trailing whitespace, replacing spaces with underscores, and converting names to lowercase. This should improve compatibility with tools that prefer underscore_case naming.\n",
        "\n",
        "While this could have been automated using functions like TRIM() and LOWER() in SQL, it was decided to manually rename the columns in this dataset for control as the dataset had a manageable number of fields.\n",
        "\n",
        "### **Filter Incorrect Data**\n",
        "\n",
        "To ensure data quality, we filter out rows where key numerical values were invalid:\n",
        "\n",
        "WHERE Quantity >= 0 AND Sales >= 0 AND `Shipping Cost` >= 0\n",
        "\n",
        "This removes any records where Quantity, Sales, or Shipping Cost are negative, which would not be possible in this context. Filtering these out helps ensure that the dataset reflects realistic transactions.\n"
      ],
      "metadata": {
        "id": "EPOSyTzBDAXB"
      }
    },
    {
      "cell_type": "code",
      "source": [
        "columns_clean = \"\"\"\n",
        "WITH cleaned_superstore_data AS (\n",
        "SELECT\n",
        "  Category AS category,\n",
        "  City AS city,\n",
        "  Country AS country,\n",
        "  \"Customer ID\" AS customer_id,\n",
        "  \"Customer Name\" AS customer_name,\n",
        "  Discount AS discount,\n",
        "  Market AS market,\n",
        "  `Order Date` AS order_date,\n",
        "  `Order ID` AS order_id,\n",
        "  `Order Priority`AS order_priority,\n",
        "  `Product ID` AS product_id,\n",
        "  \"Product Name\" AS product_name,\n",
        "  Profit AS profit,\n",
        "  Quantity AS quantity,\n",
        "  Region AS region,\n",
        "  `Row ID` AS row_id,\n",
        "  Sales AS sales,\n",
        "  Segment AS segment,\n",
        "  `Ship Date` AS ship_date,\n",
        "  `Ship Mode` AS ship_mode,\n",
        "  `Shipping Cost` AS shipping_cost,\n",
        "  State AS state,\n",
        "  `Sub-Category` AS sub_category,\n",
        "  Year AS year,\n",
        "  Market2 as market2,\n",
        "  weeknum\n",
        "FROM `superstore-072625.Global_Superstore_Dataset.Glocal_Superstore_Data`\n",
        "WHERE Quantity >= 0 AND Sales >= 0 AND `Shipping Cost` >= 0\n",
        ")\n",
        "\n",
        "SELECT * FROM cleaned_superstore_data\n",
        "\n",
        "\"\"\"\n"
      ],
      "metadata": {
        "id": "2cTl6Dvm-hzp"
      },
      "execution_count": 3,
      "outputs": []
    },
    {
      "cell_type": "markdown",
      "source": [
        "### **Checking For Null Values**\n",
        "\n",
        "To ensure our data is complete, every column in the dataset will be checked for NULL values.\n",
        "\n",
        "This query counts how many rows contain NULL values in each column and labels these counts as the CategoryName_nulls.\n",
        "\n",
        "Running this query reveals that there are no NULL entries in the dataset, confirming its complete for analysis without needing imputation or exclusion of missing data."
      ],
      "metadata": {
        "id": "BQmCVgy7GHOQ"
      }
    },
    {
      "cell_type": "code",
      "source": [
        "check_for_nulls = \"\"\"\n",
        "\n",
        "SELECT\n",
        "  COUNTIF(category IS NULL) AS category_nulls,\n",
        "  COUNTIF(city IS NULL) AS city_nulls,\n",
        "  COUNTIF(country IS NULL) AS country_nulls,\n",
        "  COUNTIF(customer_id IS NULL) AS customer_id_nulls,\n",
        "  COUNTIF(customer_name IS NULL) AS customer_name_nulls,\n",
        "  COUNTIF(discount IS NULL) AS discount_nulls,\n",
        "  COUNTIF(market IS NULL) AS market_nulls,\n",
        "  COUNTIF(order_date IS NULL) AS order_date_nulls,\n",
        "  COUNTIF(order_id IS NULL) AS order_id_nulls,\n",
        "  COUNTIF(order_priority IS NULL) AS order_priority_nulls,\n",
        "  COUNTIF(product_id IS NULL) AS product_id_nulls,\n",
        "  COUNTIF(product_name IS NULL) AS product_name_nulls,\n",
        "  COUNTIF(profit IS NULL) AS profit_nulls,\n",
        "  COUNTIF(quantity IS NULL) AS quantity_nulls,\n",
        "  COUNTIF(region IS NULL) AS region_nulls,\n",
        "  COUNTIF(row_id IS NULL) AS row_id_nulls,\n",
        "  COUNTIF(sales IS NULL) AS sales_nulls,\n",
        "  COUNTIF(segment IS NULL) AS segment_nulls,\n",
        "  COUNTIF(ship_date IS NULL) AS ship_date_nulls,\n",
        "  COUNTIF(ship_mode IS NULL) AS ship_mode_nulls,\n",
        "  COUNTIF(shipping_cost IS NULL) AS shipping_cost_nulls,\n",
        "  COUNTIF(state IS NULL) AS state_nulls,\n",
        "  COUNTIF(sub_category IS NULL) AS sub_category_nulls,\n",
        "  COUNTIF(year IS NULL) AS year_nulls,\n",
        "  COUNTIF(market2 IS NULL) AS market2_nulls,\n",
        "  COUNTIF(weeknum IS NULL) AS weeknum_nulls\n",
        "FROM cleaned_superstore_data\n",
        "\n",
        "\"\"\""
      ],
      "metadata": {
        "id": "qVoSDvETCtCR"
      },
      "execution_count": 4,
      "outputs": []
    },
    {
      "cell_type": "markdown",
      "source": [
        "### **Checking Data Types**\n",
        "\n",
        "Before performing any analysis, it's important to check that all columns have the correct data types. This prevents errors during calculations or visualizations.\n",
        "\n",
        "We paid special attention to the following columns:\n",
        "\n",
        "discount, profit, sales,and shipping_cost should be FLOAT because they contain decimal values. Storing them as integers would result in data loss.\n",
        "\n",
        "order_date and ship_date should be DATETIME (or DATE) because they represent timestamps that will be used for time-based calculations like shipping duration.\n",
        "\n",
        "After validating the data types using the following query, the results confirmed that all relevant fields are stored in the correct format, so no further type conversions were necessary."
      ],
      "metadata": {
        "id": "HeooEr4yJuga"
      }
    },
    {
      "cell_type": "code",
      "source": [
        "check_data_types = \"\"\"\n",
        "SELECT\n",
        "  column_name,\n",
        "  data_type\n",
        "FROM\n",
        "  `superstore-072625.Global_Superstore_Dataset.INFORMATION_SCHEMA.COLUMNS`\n",
        "WHERE\n",
        "  table_name = 'cleaned_superstore_data'\n",
        "ORDER BY ordinal_position;\n",
        "\n",
        "\"\"\""
      ],
      "metadata": {
        "id": "_s2lHO3NJjHe"
      },
      "execution_count": 5,
      "outputs": []
    },
    {
      "cell_type": "markdown",
      "source": [
        "### **Checking For Outliers**\n",
        "\n",
        "An inspection of the data to identify outliers is important to maintain the integrity of the dataset as outliers can distort calculations and impact forecasting or modeling.\n",
        "\n",
        "In retail datasets like this one, large outliers in fields such as Sales, Profit, or Shipping Cost may be the result of bulk orders, data entry errors, or special cases like orders with especially high shipping costs or very high discounts.\n",
        "\n",
        "A histogram was created to inspect the distribution of sales values. As expected in retail datasets, the distribution is heavily skewed — with a large number of low-value sales and a few very large ones.\n",
        "\n",
        "Although these values are extreme, they were left in the dataset, as they likely represent valid situations rather than errors. Removing these rows of data could ultimately eliminate important insights about customer transactions."
      ],
      "metadata": {
        "id": "-gfUIK1hZSmh"
      }
    },
    {
      "cell_type": "code",
      "source": [
        "import seaborn as sns\n",
        "import matplotlib.pyplot as plt\n",
        "import pandas as pd\n",
        "\n",
        "outlier_data = client.query(columns_clean).to_dataframe()\n",
        "print(f\"✅ Loaded {len(outlier_data)} rows.\")\n",
        "\n",
        "plt.figure(figsize=(10, 6))\n",
        "sns.histplot(outlier_data['sales'], bins=50, kde=True)\n",
        "plt.title('Distribution of Sales')\n",
        "plt.xlabel('Sales Amount')\n",
        "plt.ylabel('Frequency')\n",
        "plt.show()\n",
        "\n"
      ],
      "metadata": {
        "colab": {
          "base_uri": "https://localhost:8080/",
          "height": 581
        },
        "id": "HnTneWcPYRt0",
        "outputId": "a2caa9c3-7b79-46a4-cd61-d5123c82aa9d"
      },
      "execution_count": 6,
      "outputs": [
        {
          "output_type": "stream",
          "name": "stdout",
          "text": [
            "✅ Loaded 51290 rows.\n"
          ]
        },
        {
          "output_type": "display_data",
          "data": {
            "text/plain": [
              "<Figure size 1000x600 with 1 Axes>"
            ],
            "image/png": "[encoded data removed]"
          },
          "metadata": {}
        }
      ]
    },
    {
      "cell_type": "markdown",
      "source": [
        "### **Adding Features**\n",
        "\n",
        "Before exporting the data for analysis or use in a dashboard, it's important to include new features that provide deeper insight. These features are created by performing calculations on the existing data and can reveal trends or behaviors that are not directly available from the raw data.\n",
        "\n",
        "In the query below, the following features will be added:\n",
        "\n",
        "*days_to_ship*\n",
        "\n",
        "*customer_order_count*\n",
        "\n",
        "*net_sales*\n",
        "\n",
        "*profit_margin*\n",
        "\n",
        "*order_month*\n",
        "\n",
        "*order_dayofweek*\n",
        "\n",
        "*order_quarter*\n",
        "\n",
        "These columns can be added to the original SQL query used to clean and rename columns by adding them to the SELECT statement as calculated fields."
      ],
      "metadata": {
        "id": "Q8QCqgqgd8a9"
      }
    },
    {
      "cell_type": "code",
      "source": [
        "feature_data = \"\"\"\n",
        "WITH cleaned_superstore_data AS (\n",
        "SELECT\n",
        "  Category AS category,\n",
        "  City AS city,\n",
        "  Country AS country,\n",
        "  `Customer ID` AS customer_id,\n",
        "  `Customer Name` AS customer_name,\n",
        "  Discount AS discount,\n",
        "  Market AS market,\n",
        "  `Order Date` AS order_date,\n",
        "  `Order ID` AS order_id,\n",
        "  `Order Priority`AS order_priority,\n",
        "  `Product ID` AS product_id,\n",
        "  `Product Name` AS product_name,\n",
        "  Profit AS profit,\n",
        "  Quantity AS quantity,\n",
        "  Region AS region,\n",
        "  `Row ID` AS row_id,\n",
        "  Sales AS sales,\n",
        "  Segment AS segment,\n",
        "  `Ship Date` AS ship_date,\n",
        "  `Ship Mode` AS ship_mode,\n",
        "  `Shipping Cost` AS shipping_cost,\n",
        "  State AS state,\n",
        "  `Sub-Category` AS sub_category,\n",
        "  Year AS year,\n",
        "  Market2 as market2,\n",
        "  weeknum,\n",
        "  DATE_DIFF(DATE(`Ship Date`), DATE(`Order Date`), DAY) AS days_to_ship,\n",
        "  EXTRACT(MONTH FROM DATE(`Order Date`)) AS order_month,\n",
        "  EXTRACT(DAYOFWEEK FROM DATE(`Order Date`)) AS order_dayofweek,\n",
        "  COUNT(`Order ID`) OVER(PARTITION BY `Customer ID`) AS customer_order_count,\n",
        "  sales * (1 - Discount) AS net_sales,\n",
        "  SAFE_DIVIDE(Profit, Sales) AS profit_margin,\n",
        "  EXTRACT(QUARTER FROM DATE(`Order Date`)) AS order_quarter\n",
        "\n",
        "FROM `superstore-072625.Global_Superstore_Dataset.Glocal_Superstore_Data`\n",
        "WHERE Quantity >= 0 AND Sales >= 0 AND `Shipping Cost` >= 0\n",
        ")\n",
        "\n",
        "SELECT * FROM cleaned_superstore_data\n",
        "\n",
        "\"\"\""
      ],
      "metadata": {
        "id": "89l9G07AgA7c"
      },
      "execution_count": 14,
      "outputs": []
    },
    {
      "cell_type": "markdown",
      "source": [
        "## **Saving and Exporting Dataset**\n",
        "\n",
        "Now that the dataset has been cleaned and new features have been added, it's ready to be exported for use in a dashboard.\n",
        "\n",
        "First, the cleaned dataset will be saved as a DataFrame called full_superstore_data, and the first five rows will be displayed to verify the data.\n",
        "\n",
        "Then the DataFrame will be exported as a CSV file for further analysis."
      ],
      "metadata": {
        "id": "MxAcFev_hKTe"
      }
    },
    {
      "cell_type": "code",
      "source": [
        "full_superstore_dataframe = client.query(feature_data).to_dataframe()\n",
        "\n",
        "full_superstore_dataframe.head()"
      ],
      "metadata": {
        "colab": {
          "base_uri": "https://localhost:8080/"
        },
        "id": "6Vl9aoOdhKu7",
        "outputId": "b0e88867-ab3c-4992-80ca-10a7e3b63093"
      },
      "execution_count": 12,
      "outputs": [
        {
          "output_type": "stream",
          "name": "stdout",
          "text": [
            "['BIC Canvas, Blue' 'Ibico Hole Reinforcements, Economy'\n",
            " 'Fellowes Shelving, Blue' ... 'Pyle PRT45 Retro Home\\xa0Telephone'\n",
            " 'Xerox 1901' 'Xerox 1984']\n"
          ]
        }
      ]
    },
    {
      "cell_type": "code",
      "source": [
        "from google.colab import files\n",
        "full_superstore_dataframe.to_csv(\"cleaned_superstore_data.csv\", index=False)\n",
        "files.download('cleaned_superstore_data.csv')"
      ],
      "metadata": {
        "colab": {
          "base_uri": "https://localhost:8080/",
          "height": 17
        },
        "id": "TbAiEZTb-2DK",
        "outputId": "8c157791-d1dd-426a-9231-4b3725f0fc02"
      },
      "execution_count": 13,
      "outputs": [
        {
          "output_type": "display_data",
          "data": {
            "text/plain": [
              "<IPython.core.display.Javascript object>"
            ],
            "application/javascript": [
              "\n",
              "    async function download(id, filename, size) {\n",
              "      if (!google.colab.kernel.accessAllowed) {\n",
              "        return;\n",
              "      }\n",
              "      const div = document.createElement('div');\n",
              "      const label = document.createElement('label');\n",
              "      label.textContent = `Downloading \"${filename}\": `;\n",
              "      div.appendChild(label);\n",
              "      const progress = document.createElement('progress');\n",
              "      progress.max = size;\n",
              "      div.appendChild(progress);\n",
              "      document.body.appendChild(div);\n",
              "\n",
              "      const buffers = [];\n",
              "      let downloaded = 0;\n",
              "\n",
              "      const channel = await google.colab.kernel.comms.open(id);\n",
              "      // Send a message to notify the kernel that we're ready.\n",
              "      channel.send({})\n",
              "\n",
              "      for await (const message of channel.messages) {\n",
              "        // Send a message to notify the kernel that we're ready.\n",
              "        channel.send({})\n",
              "        if (message.buffers) {\n",
              "          for (const buffer of message.buffers) {\n",
              "            buffers.push(buffer);\n",
              "            downloaded += buffer.byteLength;\n",
              "            progress.value = downloaded;\n",
              "          }\n",
              "        }\n",
              "      }\n",
              "      const blob = new Blob(buffers, {type: 'application/binary'});\n",
              "      const a = document.createElement('a');\n",
              "      a.href = window.URL.createObjectURL(blob);\n",
              "      a.download = filename;\n",
              "      div.appendChild(a);\n",
              "      a.click();\n",
              "      div.remove();\n",
              "    }\n",
              "  "
            ]
          },
          "metadata": {}
        },
        {
          "output_type": "display_data",
          "data": {
            "text/plain": [
              "<IPython.core.display.Javascript object>"
            ],
            "application/javascript": [
              "download(\"download_82736c52-95a9-45b9-81d9-9f97c5c0fe85\", \"cleaned_superstore_data.csv\", 14851355)"
            ]
          },
          "metadata": {}
        }
      ]
    },
    {
      "cell_type": "markdown",
      "source": [
        "With the data cleaned, it’s now ready to use for visualizations that will help make informed business decisions!"
      ],
      "metadata": {
        "id": "fzisz888lIWY"
      }
    }
  ]
}